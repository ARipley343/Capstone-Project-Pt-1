#import libraries
import pandas as pd
import numpy as np
import matplotlib.pyplot as plt
import seaborn as sns
import re


# read in data sets and check first rows.
pd.set_option('display.max_columns', None)
df = pd.read_csv('Data/used_cars.csv')
df.head()


df.shape





# checking data types for inconcistencies, none found. 
pd.set_option('display.max_columns', None)
pd.set_option('display.max_rows', None)
dtypes = df.dtypes
print(dtypes)





df['milage'] = df['milage'].str.replace(' mi.', '', regex=False).str.replace(',', '').astype(int)
df['price'] = df['price'].str.replace('$', '', regex=False).str.replace(',', '').astype(int)
df.dtypes





df.isna().sum()


# checking distribution for clean_title
df['clean_title'].value_counts()





df['clean_title'] = df['clean_title'].replace({'Yes': 1})
df['clean_title'].fillna(0, inplace = True)
df['clean_title'].value_counts()


#checking Fuel Type
df['fuel_type'].value_counts()





df['fuel_type'].fillna('Gasoline', inplace = True)
df ['fuel_type'] = df['fuel_type'].replace('–', 'Gasoline')
df = df[df['fuel_type'] != 'not supported']


df['fuel_type'].value_counts()


# Last we will check the accident feature
df['accident'].value_counts()





df['accident'].fillna('None reported', inplace = True)
df['accident'] = df['accident'].replace({'At least 1 accident or damage reported': 1, 'None reported' : 0})
df['accident'].value_counts()





plt.figure(figsize = (9, 2))

sns.boxplot(df,
            x = 'price');





df['price'].mean()


# Checking highest prices
df['price'].nlargest(10)





# Defining the 'upperbound' based on IQR method
Q1 = df['price'].quantile(0.25)
Q3 = df['price'].quantile(0.75)
IQR = Q3 - Q1

upper_bound = Q3 + 1.5 * IQR

print(upper_bound)


count = (df['price'] > upper_bound).sum()
print(count)





df = df[df['price'] <= upper_bound]
df.shape





plt.figure(figsize = (9, 2))

sns.boxplot(df,
            x = 'milage');





df['milage'].mean()


# Checking highest prices
df['milage'].nlargest(10)


# Defining the 'upperbound' based on IQR method
Q1 = df['milage'].quantile(0.25)
Q3 = df['milage'].quantile(0.75)
IQR = Q3 - Q1

upper_bound = Q3 + 1.5 * IQR

print(upper_bound)


count = (df['milage'] > upper_bound).sum()
print(count)





df = df[df['milage'] <= upper_bound]
df.shape








df['brand'].value_counts()





#Consolidating Brands
Counts = df['brand'].value_counts()
Replace = Counts[Counts <= 50].index
df['brand'] = df['brand'].replace(Replace, 'Other')





df['transmission'].value_counts()
# Looking through I can see many values that should be paired together


# Creating a script to clean the transmission feature. I want to reduce it down to as few options as possible. Breaking it down by speed and transmission type.
# I have also left two options for mannual and automatic when no speed is given.
# Everything else will be grouped into 'Other'

def consolidate_transmission(trans_desc):
    if pd.isna(trans_desc):
        return "Other"  
    
    trans_desc = trans_desc.lower()
    
    # Identify transmission type
    if any(term in trans_desc for term in ["at", "a/t", "automatic"]):
        trans_type = "Automatic"
    elif any(term in trans_desc for term in ["mt", "m/t", "manual"]):
        trans_type = "Manual"
    else:
        return "Other" 
    
    # Extract speed (e.g., "6-speed", "5 spd")
    speed_match = re.search(r'(\d+)[-\s]?(?:speed|spd)', trans_desc)
    
    if speed_match:
        speed = speed_match.group(1)
        return f"{speed}-Speed {trans_type}"
    
    return trans_type
df['transmission_cleaned'] = df['transmission'].apply(consolidate_transmission)

df['transmission_cleaned'].value_counts()






df['ext_col'].value_counts()


df['int_col'].value_counts()


# This script will be given a list of common colors to extract from the values to try and make the list more uniform, anything else will be left as 'other'

# List of common colors
common_colors = [
    "black", "white", "gray", "silver", "red", "blue", "green", "yellow",
    "orange", "brown", "beige", "gold", "purple", "pink"
]

def extract_main_color(color_desc):
    if pd.isna(color_desc):
        return "Other"
    
    color_desc = color_desc.lower()
    # Normalize the text
    
    for color in common_colors:
        if color in color_desc:
            return color.capitalize()  
    
    return "Other"  # If no common color is found, classify as 'Other'

df['int_col_cleaned'] = df['int_col'].apply(extract_main_color)
df['ext_col_cleaned'] = df['ext_col'].apply(extract_main_color)

df['int_col_cleaned'].value_counts()


df['ext_col_cleaned'].value_counts()






# This script will attempt to extract the number of cylinders from the engine feature and assign all electic engines a 0 value. Anything it cannot find will be left as null.
# After a few itterations checking the remaining null values for any patterns this script should get all known cylinder counts.
def extract_cylinders(engine_desc):
    if pd.isna(engine_desc):
        return None
    engine_desc = engine_desc.lower()
    if "electric" in engine_desc:
        return 0  # Assign 0 cylinders for electric vehicles

    # Check for explicit cylinder mentions
    match = re.search(r'(\d+)\s*(?:cyl|cylinder|v\d|i\d|h\d)', engine_desc)
    if match:
        return int(match.group(1))

    # Check for different engine configurations
    patterns = [r'v-?(\d+)', r'i-?(\d+)', r'h-?(\d+)']
    for pattern in patterns:
        config_match = re.search(pattern, engine_desc)
        if config_match:
            return int(config_match.group(1))


df['cylinders'] = df['engine'].apply(extract_cylinders)
# Creating the new feature

#Finding the number of null values
df['cylinders'].isna().sum()





# Finding the mean and replacing null values rounded to the nearest integer
cylinder_mean = df['cylinders'].mean()
df['cylinders'].fillna(round(cylinder_mean), inplace=True)

df['cylinders'].value_counts()





df['age'] = (2025 - df['model_year'])
df.drop('model_year', axis = 1, inplace = True)


df.head()





dropped_columns = ['model', 'engine','transmission','ext_col','int_col']
df.drop(columns = dropped_columns, axis = 1, inplace = True)
df.head()
# The remaining columns will be used for the models. 











# Basic histograms
df.hist(figsize = (45,30));





sns.scatterplot(df,
                x = 'price',
                y = 'age',
                color = 'red')

plt.title("Correlation of Model Year and Price")
plt.xlabel("Price (USD)")
plt.ylabel("Age of Vehicle");


sns.scatterplot(df,
                x = 'price',
                y = 'milage',)

plt.title("Correlation of Milage and Price")
plt.xlabel("Price (USD)")
plt.ylabel("Milage of Vehicle");





sns.scatterplot(df,
                x = 'price',
                y = 'transmission_cleaned',
                color = 'grey')

plt.title("Correlation of Transmission Type and Price")
plt.xlabel("Price (USD)")
plt.ylabel("Trasmission Type");





plt.figure(figsize = (10, 8))

sns.boxplot(df,
                y = 'price',
                x = 'ext_col_cleaned',
                color = 'Green')

plt.title("Breakdown of Average Price by Exterior Color")
plt.xlabel("Car Exterior Color")
plt.ylabel("Price (USD)");


plt.figure(figsize = (10, 8))

sns.boxplot(df,
                y = 'price',
                x = 'ext_col_cleaned',
                color = 'Purple')

plt.title("Breakdown of Average Price by Interior Color")
plt.xlabel("Car Interior Color")
plt.ylabel("Price (USD)");








df.to_csv('Data/df_cleaned.csv')


df_dummy = pd.get_dummies(df, columns =['brand', 'fuel_type', 'transmission_cleaned', 'ext_col_cleaned', 'int_col_cleaned'], dtype = int)


df.head()





plt.figure(figsize = (10, 18))
sns.heatmap(df_dummy.corr(numeric_only = True)[['price']].sort_values(by = 'price', ascending = False),
            vmin = -1,
            vmax = 1,
            cmap = 'coolwarm',
            annot = True);











df_dummy.to_csv('Data/df_dummy.csv')
